{
 "cells": [
  {
   "cell_type": "code",
   "execution_count": 4,
   "id": "13b9ac0c",
   "metadata": {},
   "outputs": [
    {
     "name": "stdout",
     "output_type": "stream",
     "text": [
      "Python is fun to learn\n",
      "Hello World!\n",
      "My name is Mmesoma\n"
     ]
    }
   ],
   "source": [
    "print(\"Python is fun to learn\")\n",
    "\n",
    "print(\"Hello World!\")\n",
    "\n",
    "print(\"My name is Mmesoma\")"
   ]
  },
  {
   "cell_type": "markdown",
   "id": "43cea1bd",
   "metadata": {},
   "source": [
    "mmesoma"
   ]
  },
  {
   "cell_type": "markdown",
   "id": "bfccc09f",
   "metadata": {},
   "source": [
    "* # Title \n",
    "    * Subtitle\n",
    "    * *Italic*"
   ]
  },
  {
   "cell_type": "code",
   "execution_count": 6,
   "id": "f3efb1f0",
   "metadata": {},
   "outputs": [
    {
     "data": {
      "text/plain": [
       "\" But I know you wanna roll with the gang And I know you want the finest of things\\nAskin' me about settlin' down 'cause you know that things are going my way\""
      ]
     },
     "execution_count": 6,
     "metadata": {},
     "output_type": "execute_result"
    }
   ],
   "source": [
    "''' But I know you wanna roll with the gang And I know you want the finest of things\n",
    "Askin' me about settlin' down 'cause you know that things are going my way'''"
   ]
  },
  {
   "cell_type": "code",
   "execution_count": null,
   "id": "6b9db3ab",
   "metadata": {},
   "outputs": [],
   "source": []
  }
 ],
 "metadata": {
  "kernelspec": {
   "display_name": "Python 3 (ipykernel)",
   "language": "python",
   "name": "python3"
  },
  "language_info": {
   "codemirror_mode": {
    "name": "ipython",
    "version": 3
   },
   "file_extension": ".py",
   "mimetype": "text/x-python",
   "name": "python",
   "nbconvert_exporter": "python",
   "pygments_lexer": "ipython3",
   "version": "3.11.4"
  }
 },
 "nbformat": 4,
 "nbformat_minor": 5
}
